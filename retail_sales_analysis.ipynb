{
 "cells": [
  {
   "cell_type": "code",
   "execution_count": null,
   "id": "461cf65d",
   "metadata": {},
   "outputs": [
    {
     "data": {
      "text/html": [
       "<div>\n",
       "<style scoped>\n",
       "    .dataframe tbody tr th:only-of-type {\n",
       "        vertical-align: middle;\n",
       "    }\n",
       "\n",
       "    .dataframe tbody tr th {\n",
       "        vertical-align: top;\n",
       "    }\n",
       "\n",
       "    .dataframe thead th {\n",
       "        text-align: right;\n",
       "    }\n",
       "</style>\n",
       "<table border=\"1\" class=\"dataframe\">\n",
       "  <thead>\n",
       "    <tr style=\"text-align: right;\">\n",
       "      <th></th>\n",
       "      <th>OrderID</th>\n",
       "      <th>CustomerID</th>\n",
       "      <th>Gender</th>\n",
       "      <th>Age</th>\n",
       "      <th>Region</th>\n",
       "      <th>ProductCategory</th>\n",
       "      <th>Quantity</th>\n",
       "      <th>UnitPrice</th>\n",
       "      <th>PurchaseDate</th>\n",
       "      <th>TotalAmount</th>\n",
       "    </tr>\n",
       "  </thead>\n",
       "  <tbody>\n",
       "    <tr>\n",
       "      <th>0</th>\n",
       "      <td>1</td>\n",
       "      <td>1009</td>\n",
       "      <td>Male</td>\n",
       "      <td>58</td>\n",
       "      <td>North</td>\n",
       "      <td>Books</td>\n",
       "      <td>3</td>\n",
       "      <td>331</td>\n",
       "      <td>2023-01-01</td>\n",
       "      <td>993</td>\n",
       "    </tr>\n",
       "    <tr>\n",
       "      <th>1</th>\n",
       "      <td>2</td>\n",
       "      <td>1015</td>\n",
       "      <td>Male</td>\n",
       "      <td>49</td>\n",
       "      <td>South</td>\n",
       "      <td>Clothing</td>\n",
       "      <td>4</td>\n",
       "      <td>493</td>\n",
       "      <td>2023-01-02</td>\n",
       "      <td>1972</td>\n",
       "    </tr>\n",
       "    <tr>\n",
       "      <th>2</th>\n",
       "      <td>3</td>\n",
       "      <td>1064</td>\n",
       "      <td>Female</td>\n",
       "      <td>64</td>\n",
       "      <td>West</td>\n",
       "      <td>Home</td>\n",
       "      <td>4</td>\n",
       "      <td>116</td>\n",
       "      <td>2023-01-03</td>\n",
       "      <td>464</td>\n",
       "    </tr>\n",
       "    <tr>\n",
       "      <th>3</th>\n",
       "      <td>4</td>\n",
       "      <td>1028</td>\n",
       "      <td>Male</td>\n",
       "      <td>56</td>\n",
       "      <td>South</td>\n",
       "      <td>Home</td>\n",
       "      <td>4</td>\n",
       "      <td>202</td>\n",
       "      <td>2023-01-04</td>\n",
       "      <td>808</td>\n",
       "    </tr>\n",
       "    <tr>\n",
       "      <th>4</th>\n",
       "      <td>5</td>\n",
       "      <td>1089</td>\n",
       "      <td>Male</td>\n",
       "      <td>22</td>\n",
       "      <td>West</td>\n",
       "      <td>Sports</td>\n",
       "      <td>5</td>\n",
       "      <td>467</td>\n",
       "      <td>2023-01-05</td>\n",
       "      <td>2335</td>\n",
       "    </tr>\n",
       "  </tbody>\n",
       "</table>\n",
       "</div>"
      ],
      "text/plain": [
       "   OrderID  CustomerID  Gender  Age Region ProductCategory  Quantity  \\\n",
       "0        1        1009    Male   58  North           Books         3   \n",
       "1        2        1015    Male   49  South        Clothing         4   \n",
       "2        3        1064  Female   64   West            Home         4   \n",
       "3        4        1028    Male   56  South            Home         4   \n",
       "4        5        1089    Male   22   West          Sports         5   \n",
       "\n",
       "   UnitPrice PurchaseDate  TotalAmount  \n",
       "0        331   2023-01-01          993  \n",
       "1        493   2023-01-02         1972  \n",
       "2        116   2023-01-03          464  \n",
       "3        202   2023-01-04          808  \n",
       "4        467   2023-01-05         2335  "
      ]
     },
     "execution_count": 9,
     "metadata": {},
     "output_type": "execute_result"
    }
   ],
   "source": [
    "# Load dataset\n",
    "\n",
    "\n",
    "import pandas as pd\n",
    "import numpy as np\n",
    "\n",
    "df = pd.read_csv('retail_sales.csv')\n",
    "\n",
    "# Preview first 5 rows to understand structure\n",
    "df.head(5)"
   ]
  },
  {
   "cell_type": "code",
   "execution_count": 10,
   "id": "6223a819",
   "metadata": {},
   "outputs": [
    {
     "name": "stdout",
     "output_type": "stream",
     "text": [
      "300\n"
     ]
    }
   ],
   "source": [
    "## How many unique customers are in a database\n",
    "\n",
    "Unique_customers = df['OrderID'].nunique()\n",
    "print(Unique_customers)"
   ]
  },
  {
   "cell_type": "code",
   "execution_count": 61,
   "id": "e904b802",
   "metadata": {},
   "outputs": [
    {
     "name": "stdout",
     "output_type": "stream",
     "text": [
      "  Region  OrderID\n",
      "3   West       79\n",
      "2  South       76\n",
      "1  North       72\n",
      "0   East       73\n"
     ]
    }
   ],
   "source": [
    "## which region has the highter number of orders\n",
    "\n",
    "region_orders = df.groupby(\"Region\", as_index=False)[\"OrderID\"].count().sort_values(by='Region',ascending=False)\n",
    "print(region_orders)"
   ]
  },
  {
   "cell_type": "code",
   "execution_count": 12,
   "id": "a78855cd",
   "metadata": {},
   "outputs": [
    {
     "name": "stdout",
     "output_type": "stream",
     "text": [
      "OrderID            0\n",
      "CustomerID         0\n",
      "Gender             0\n",
      "Age                0\n",
      "Region             0\n",
      "ProductCategory    0\n",
      "Quantity           0\n",
      "UnitPrice          0\n",
      "PurchaseDate       0\n",
      "TotalAmount        0\n",
      "dtype: int64\n",
      "0\n"
     ]
    }
   ],
   "source": [
    "## Data Cleaning\n",
    "\n",
    "null_values = df.isnull().sum()\n",
    "print(null_values)\n",
    "\n",
    "## No null values found in a set\n",
    "\n",
    "duplicates = df.duplicated().sum()\n",
    "print(duplicates)\n",
    "\n",
    "##no duplicates found in a set\n"
   ]
  },
  {
   "cell_type": "code",
   "execution_count": 13,
   "id": "9b795cfd",
   "metadata": {},
   "outputs": [
    {
     "name": "stdout",
     "output_type": "stream",
     "text": [
      "  ProductCategory  TotalAmount\n",
      "1        Clothing        52951\n",
      "2     Electronics        46471\n",
      "4          Sports        45237\n",
      "3            Home        44850\n",
      "0           Books        41755\n"
     ]
    }
   ],
   "source": [
    "## Find the top product categories by revenue \n",
    "\n",
    "product_c_by_revenue = df.groupby('ProductCategory', as_index=False)['TotalAmount'].sum().sort_values(by='TotalAmount',ascending = False)\n",
    "print(product_c_by_revenue)"
   ]
  },
  {
   "cell_type": "code",
   "execution_count": 14,
   "id": "2a75ec70",
   "metadata": {},
   "outputs": [
    {
     "name": "stdout",
     "output_type": "stream",
     "text": [
      " CustomerID  TotalAmount\n",
      "       1062         7072\n",
      "       1030         6072\n",
      "       1011         5909\n",
      "       1073         5682\n",
      "       1088         5558\n"
     ]
    }
   ],
   "source": [
    "## who are the top 5 customers by total spending\n",
    "\n",
    "customers = (\n",
    "    df.groupby('CustomerID', as_index=False)['TotalAmount']\n",
    "    .sum()\n",
    "    .sort_values(by=\"TotalAmount\", ascending=False)\n",
    ")\n",
    "\n",
    "top5_customers = customers.head(5)\n",
    "\n",
    "print(top5_customers.to_string(index=False))"
   ]
  },
  {
   "cell_type": "code",
   "execution_count": 53,
   "id": "a20c3593",
   "metadata": {},
   "outputs": [
    {
     "name": "stdout",
     "output_type": "stream",
     "text": [
      "average age per product category: 39.52\n"
     ]
    }
   ],
   "source": [
    "## What’s the average age of customers buying “Electronics”?\n",
    "\n",
    "avg_age = df[df['ProductCategory'] == 'Electronics'] ['Age'].mean()\n",
    "\n",
    "age = avg_age\n",
    "print(f\"average age per product category: {round(age, 2)}\")"
   ]
  },
  {
   "cell_type": "code",
   "execution_count": 43,
   "id": "817519d4",
   "metadata": {},
   "outputs": [
    {
     "name": "stdout",
     "output_type": "stream",
     "text": [
      "  PurchaseDate  TotalAmount\n",
      "9      2023-10        25115\n",
      "8      2023-09        28681\n",
      "7      2023-08        22516\n",
      "6      2023-07        19417\n",
      "5      2023-06        25492\n",
      "4      2023-05        24617\n",
      "3      2023-04        20032\n",
      "2      2023-03        19019\n",
      "1      2023-02        18430\n",
      "0      2023-01        27945\n"
     ]
    }
   ],
   "source": [
    "## Plot total sales revenue by month.\n",
    "\n",
    "df['PurchaseDate'] = pd.to_datetime(df['PurchaseDate'])\n",
    "\n",
    "SalesBymonth = (\n",
    "    df.groupby(df['PurchaseDate'].dt.to_period('M'))['TotalAmount']\n",
    "    .sum()\n",
    "    .reset_index()\n",
    "    .sort_values(by='PurchaseDate', ascending=False)\n",
    ")\n",
    "\n",
    "print(SalesBymonth[['PurchaseDate','TotalAmount']])\n"
   ]
  },
  {
   "cell_type": "code",
   "execution_count": 52,
   "id": "b3c638d6",
   "metadata": {},
   "outputs": [
    {
     "name": "stdout",
     "output_type": "stream",
     "text": [
      "Best-selling month: 2023-09 with revenue $28,681\n"
     ]
    }
   ],
   "source": [
    "##Identify the best-selling month overall.\n",
    "\n",
    "df['PurchaseDate'] = pd.to_datetime(df['PurchaseDate'])\n",
    "\n",
    "SalesBymonth = (\n",
    "    df.groupby(df['PurchaseDate'].dt.to_period('M'))['TotalAmount']\n",
    "    .sum()\n",
    "    .reset_index()\n",
    "    .sort_values(by='TotalAmount', ascending=False)\n",
    ")\n",
    "\n",
    "# SBM = SalesBymonth[['PurchaseDate','TotalAmount']]\n",
    "# Best_Selling_Month = SBM.head(1)\n",
    "\n",
    "best_month = SalesBymonth.loc[SalesBymonth['TotalAmount'].idxmax()]\n",
    "print(f\"Best-selling month: {best_month['PurchaseDate']} with revenue ${best_month['TotalAmount']:,}\")\n"
   ]
  },
  {
   "cell_type": "code",
   "execution_count": 71,
   "id": "591053cf",
   "metadata": {},
   "outputs": [
    {
     "name": "stdout",
     "output_type": "stream",
     "text": [
      "90th percentile of TotalAmount: 1720.50\n"
     ]
    }
   ],
   "source": [
    "### Use NumPy to calculate the 90th percentile of TotalAmount.\n",
    "\n",
    "p90 = np.percentile(df['TotalAmount'], 90)\n",
    "\n",
    "\n",
    "\n",
    "print(f\"90th percentile of TotalAmount: {p90:.2f}\")  \n",
    "\n"
   ]
  },
  {
   "cell_type": "code",
   "execution_count": 81,
   "id": "b4aec0a5",
   "metadata": {},
   "outputs": [
    {
     "name": "stdout",
     "output_type": "stream",
     "text": [
      "  AgeGroup  TotalAmount\n",
      "3      51+        75425\n",
      "2    36–50        65557\n",
      "1    26–35        49089\n",
      "0    18–25        35070\n"
     ]
    },
    {
     "name": "stderr",
     "output_type": "stream",
     "text": [
      "C:\\Users\\yashw\\AppData\\Local\\Temp\\ipykernel_22356\\3541615622.py:12: FutureWarning: The default of observed=False is deprecated and will be changed to True in a future version of pandas. Pass observed=False to retain current behavior or observed=True to adopt the future default and silence this warning.\n",
      "  df.groupby(\"AgeGroup\", as_index=False)[\"TotalAmount\"]\n"
     ]
    }
   ],
   "source": [
    "### Group customers into age bins (18–25, 26–35, 36–50, 51+) and find revenue per group.\n",
    "\n",
    "# Define bins and labels\n",
    "bins = [18, 25, 35, 50, 100] \n",
    "labels = [\"18–25\", \"26–35\", \"36–50\", \"51+\"]\n",
    "\n",
    "# Create a new AgeGroup column\n",
    "df[\"AgeGroup\"] = pd.cut(df[\"Age\"], bins=bins, labels=labels, right=True)\n",
    "\n",
    "# Group by AgeGroup and sum revenue\n",
    "revenue_by_agegroup = (\n",
    "    df.groupby(\"AgeGroup\", as_index=False)[\"TotalAmount\"]\n",
    "      .sum()\n",
    "      .sort_values(by='TotalAmount',ascending=False)\n",
    ")\n",
    "\n",
    "print(revenue_by_agegroup)\n"
   ]
  },
  {
   "cell_type": "code",
   "execution_count": 82,
   "id": "ff26b7a0",
   "metadata": {},
   "outputs": [
    {
     "name": "stdout",
     "output_type": "stream",
     "text": [
      "   Quantity  UnitPrice  TotalAmount  TotalAmount_numpy\n",
      "0         3        331          993                993\n",
      "1         4        493         1972               1972\n",
      "2         4        116          464                464\n",
      "3         4        202          808                808\n",
      "4         5        467         2335               2335\n"
     ]
    }
   ],
   "source": [
    "## Recalculate TotalAmount using NumPy vectorized multiplication (Quantity × UnitPrice).\n",
    "\n",
    "# Recalculate using NumPy arrays\n",
    "df[\"TotalAmount_numpy\"] = np.multiply(df[\"Quantity\"].values, df[\"UnitPrice\"].values)\n",
    "\n",
    "# Check first few rows\n",
    "print(df[[\"Quantity\", \"UnitPrice\", \"TotalAmount\", \"TotalAmount_numpy\"]].head())\n"
   ]
  },
  {
   "cell_type": "code",
   "execution_count": null,
   "id": "c71fbdcc",
   "metadata": {},
   "outputs": [],
   "source": []
  }
 ],
 "metadata": {
  "kernelspec": {
   "display_name": "retail-sales",
   "language": "python",
   "name": "python3"
  },
  "language_info": {
   "codemirror_mode": {
    "name": "ipython",
    "version": 3
   },
   "file_extension": ".py",
   "mimetype": "text/x-python",
   "name": "python",
   "nbconvert_exporter": "python",
   "pygments_lexer": "ipython3",
   "version": "3.11.13"
  }
 },
 "nbformat": 4,
 "nbformat_minor": 5
}
